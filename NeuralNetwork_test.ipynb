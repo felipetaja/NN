{
 "cells": [
  {
   "cell_type": "markdown",
   "id": "f78acab1-997e-4cd5-ae39-c153ad444f5f",
   "metadata": {},
   "source": [
    "# Neural Network\n",
    "\n",
    "Primeiro teste com Logistic Regression"
   ]
  },
  {
   "cell_type": "code",
   "execution_count": 8,
   "id": "bdc56c95-3588-4b8a-aec6-996aa1a8918a",
   "metadata": {},
   "outputs": [],
   "source": [
    "import matplotlib.pyplot as plt\n",
    "import numpy as np"
   ]
  },
  {
   "cell_type": "code",
   "execution_count": 10,
   "id": "585e3ce5-bdbc-4b1c-8949-6d665fc03326",
   "metadata": {},
   "outputs": [],
   "source": [
    "def initialize_weights(m):\n",
    "    \"\"\" Initialize random weigths \n",
    "        inputs:\n",
    "        m - number of training examples\n",
    "        \n",
    "        outputs:\n",
    "        W - matrix (1, nx)\n",
    "        b - Linear term\n",
    "        \"\"\"\n",
    "    b = 0\n",
    "    W = np.random.randn(nx) * 0.1\n",
    "    weights = {\"W\": W,\n",
    "               \"b\": b}\n",
    "    return weights\n",
    "\n",
    "def linear_activation(W, X, b):\n",
    "    \"\"\" \"\"\"\n",
    "    Z = np.dot(W.T, X) + b\n",
    "    a = activation_function(Z)\n",
    "    return a\n",
    "\n",
    "def yhat(a, function):\n",
    "    if function == \"tanh\" or function == \"relu\":\n",
    "        if a < 0:\n",
    "            yhat = 0\n",
    "        else:\n",
    "            yhat = 1\n",
    "    if function == \"sigmoid\":\n",
    "        if a < 0.5:\n",
    "            yhat = 0\n",
    "        else:\n",
    "            yhat = 1\n",
    "    return yhat\n",
    "    \n",
    "def activation_function(Z, function):\n",
    "    \"\"\" \"\"\"\n",
    "    if function == \"tanh\":\n",
    "        a = np.tanh(Z)\n",
    "    if function == \"sigmoid\":\n",
    "        a = 1/ (1 + np.exp(- Z))\n",
    "    if function == \"relu\":\n",
    "        a = [max(0.0, i) for i in Z]\n",
    "    return a\n",
    "\n",
    "def loss(y, yhat):\n",
    "    \"\"\"Loss error function \"\"\"\n",
    "    return -(y * np.log(yhat) + (1 - y) * np.log(1 - yhat))\n",
    "\n",
    "def cost_function(y, yhat):\n",
    "    \"\"\"   \"\"\"\n",
    "    m = len(y)\n",
    "    return 1/m * np.sum(loss(y, yhat))"
   ]
  },
  {
   "cell_type": "code",
   "execution_count": null,
   "id": "0e6d76fb-0f76-42ea-9907-ea1bfbc88684",
   "metadata": {},
   "outputs": [],
   "source": [
    "np.log10("
   ]
  },
  {
   "cell_type": "code",
   "execution_count": 28,
   "id": "3c2bdb45-bc88-4243-85c8-6b656a1592b4",
   "metadata": {},
   "outputs": [
    {
     "ename": "TypeError",
     "evalue": "'>' not supported between instances of 'int' and 'list'",
     "output_type": "error",
     "traceback": [
      "\u001b[1;31m---------------------------------------------------------------------------\u001b[0m",
      "\u001b[1;31mTypeError\u001b[0m                                 Traceback (most recent call last)",
      "Cell \u001b[1;32mIn[28], line 1\u001b[0m\n\u001b[1;32m----> 1\u001b[0m \u001b[38;5;28;43mmax\u001b[39;49m\u001b[43m(\u001b[49m\u001b[43m[\u001b[49m\u001b[38;5;241;43m1\u001b[39;49m\u001b[43m,\u001b[49m\u001b[43m \u001b[49m\u001b[38;5;241;43m2\u001b[39;49m\u001b[43m,\u001b[49m\u001b[43m \u001b[49m\u001b[38;5;241;43m3\u001b[39;49m\u001b[43m,\u001b[49m\u001b[43m \u001b[49m\u001b[38;5;241;43m4\u001b[39;49m\u001b[43m]\u001b[49m\u001b[43m,\u001b[49m\u001b[38;5;241;43m3\u001b[39;49m\u001b[43m)\u001b[49m\n",
      "\u001b[1;31mTypeError\u001b[0m: '>' not supported between instances of 'int' and 'list'"
     ]
    }
   ],
   "source": [
    "max([1, 2, 3, 4],3)\n"
   ]
  },
  {
   "cell_type": "code",
   "execution_count": null,
   "id": "011e21ad-0705-4ca3-be71-23985b75f043",
   "metadata": {},
   "outputs": [],
   "source": []
  }
 ],
 "metadata": {
  "kernelspec": {
   "display_name": "Python 3 (ipykernel)",
   "language": "python",
   "name": "python3"
  },
  "language_info": {
   "codemirror_mode": {
    "name": "ipython",
    "version": 3
   },
   "file_extension": ".py",
   "mimetype": "text/x-python",
   "name": "python",
   "nbconvert_exporter": "python",
   "pygments_lexer": "ipython3",
   "version": "3.10.14"
  }
 },
 "nbformat": 4,
 "nbformat_minor": 5
}
